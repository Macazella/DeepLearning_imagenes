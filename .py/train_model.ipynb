{
 "cells": [
  {
   "cell_type": "markdown",
   "metadata": {},
   "source": [
    "# Clasificación de Señales de Tráfico con GTSRB\n",
    "\n",
    "Este proyecto tiene como objetivo construir un modelo de **red neuronal convolucional (CNN)** para clasificar imágenes de señales de tráfico utilizando el dataset **GTSRB (German Traffic Sign Recognition Benchmark)**.\n",
    "\n",
    "https://benchmark.ini.rub.de/gtsrb_dataset.html \n",
    "\n",
    "A continuación se documentan los pasos para cargar, preprocesar, entrenar y evaluar el modelo utilizando Python y TensorFlow.\n",
    "\n",
    "---\n",
    "## **Estructura de Directorios**\n",
    "\n",
    "Asegúrate de que las imágenes y el código estén organizados de la siguiente manera:\n",
    "\n",
    "C:/DB_Covid19Arg/csv_archivos_limpios/Amazon_test/ ├── GTSRB/ │ ├── Final_Training/ │ │ └── Images/ │ └── Final_Test/ │ └── Images/ └── train_model.py └── test_model.py\n",
    "\n",
    "\n",
    "- **Final_Training**: Contiene las imágenes de entrenamiento organizadas en subdirectorios (uno por cada clase).\n",
    "- **Final_Test**: Contiene las imágenes de prueba.\n",
    "\n",
    "\n"
   ]
  },
  {
   "cell_type": "markdown",
   "metadata": {},
   "source": [
    "## Carga y Preprocesamiento de Datos\n",
    "\n",
    "En esta sección, cargamos las imágenes de entrenamiento desde el directorio `Final_Training/Images/` y las preprocesamos. Las imágenes se redimensionan a 32x32 píxeles y se normalizan dividiendo los valores de los píxeles por 255.\n"
   ]
  },
  {
   "cell_type": "code",
   "execution_count": null,
   "metadata": {},
   "outputs": [],
   "source": [
    "import os\n",
    "import cv2\n",
    "import numpy as np\n",
    "from sklearn.model_selection import train_test_split\n",
    "\n",
    "# Ruta a las imágenes de entrenamiento\n",
    "train_images_path = 'C:/DB_Covid19Arg/csv_archivos_limpios/Amazon_test/GTSRB/Final_Training/Images/'\n",
    "\n",
    "# Función para cargar las imágenes y sus etiquetas\n",
    "def load_data(images_path):\n",
    "    images = []\n",
    "    labels = []\n",
    "    for root, dirs, files in os.walk(images_path):\n",
    "        for file in files:\n",
    "            if file.endswith(\".ppm\"):  # Formato de imagen .ppm\n",
    "                image = cv2.imread(os.path.join(root, file))\n",
    "                image = cv2.resize(image, (32, 32))  # Redimensionar a 32x32 píxeles\n",
    "                label = int(os.path.basename(root))  # El nombre del directorio es la etiqueta\n",
    "                images.append(image)\n",
    "                labels.append(label)\n",
    "    return np.array(images), np.array(labels)\n",
    "\n",
    "# Cargar imágenes y etiquetas\n",
    "X, y = load_data(train_images_path)\n",
    "\n",
    "# Normalizar los valores de las imágenes\n",
    "X = X / 255.0\n",
    "\n",
    "# Dividir los datos en entrenamiento y validación (80% entrenamiento y 20% validación)\n",
    "X_train, X_val, y_train, y_val = train_test_split(X, y, test_size=0.2, random_state=42)\n",
    "\n",
    "print(f\"Datos de entrenamiento: {X_train.shape}, Datos de validación: {X_val.shape}\")\n"
   ]
  },
  {
   "cell_type": "markdown",
   "metadata": {},
   "source": [
    "## Aumentación de Datos\n",
    "\n",
    "Para evitar el sobreajuste durante el entrenamiento, aplicamos aumentación de datos usando `ImageDataGenerator`. Esto permite que el modelo vea variaciones de las imágenes durante el entrenamiento, como rotaciones, zoom y desplazamientos.\n"
   ]
  },
  {
   "cell_type": "code",
   "execution_count": null,
   "metadata": {},
   "outputs": [],
   "source": [
    "from tensorflow.keras.preprocessing.image import ImageDataGenerator\n",
    "\n",
    "# Generador de imágenes con aumentación para evitar sobreajuste\n",
    "train_datagen = ImageDataGenerator(\n",
    "    rotation_range=20,\n",
    "    width_shift_range=0.2,\n",
    "    height_shift_range=0.2,\n",
    "    shear_range=0.2,\n",
    "    zoom_range=0.2,\n",
    "    horizontal_flip=True,\n",
    "    fill_mode='nearest'\n",
    ")\n",
    "\n",
    "# Ajustar el generador a los datos de entrenamiento\n",
    "train_datagen.fit(X_train)\n"
   ]
  },
  {
   "cell_type": "markdown",
   "metadata": {},
   "source": [
    "## Construcción del Modelo CNN\n",
    "\n",
    "Definimos un modelo de red neuronal convolucional (CNN) usando `Sequential` de Keras. Este modelo tiene dos capas convolucionales seguidas de capas densas completamente conectadas. \n"
   ]
  },
  {
   "cell_type": "code",
   "execution_count": null,
   "metadata": {},
   "outputs": [],
   "source": [
    "from tensorflow.keras.models import Sequential\n",
    "from tensorflow.keras.layers import Conv2D, MaxPooling2D, Flatten, Dense, Dropout\n",
    "\n",
    "# Definir el modelo CNN\n",
    "model = Sequential([\n",
    "    Conv2D(32, (3, 3), activation='relu', input_shape=(32, 32, 3)),\n",
    "    MaxPooling2D(pool_size=(2, 2)),\n",
    "    Conv2D(64, (3, 3), activation='relu'),\n",
    "    MaxPooling2D(pool_size=(2, 2)),\n",
    "    Flatten(),\n",
    "    Dense(128, activation='relu'),\n",
    "    Dropout(0.5),\n",
    "    Dense(43, activation='softmax')  # 43 clases\n",
    "])\n",
    "\n",
    "# Compilar el modelo\n",
    "model.compile(optimizer='adam', loss='sparse_categorical_crossentropy', metrics=['accuracy'])\n"
   ]
  },
  {
   "cell_type": "markdown",
   "metadata": {},
   "source": [
    "## Entrenamiento del Modelo\n",
    "\n",
    "Entrenamos el modelo utilizando los datos de entrenamiento. Utilizamos un callback de `EarlyStopping` para detener el entrenamiento si la precisión de validación deja de mejorar.\n"
   ]
  },
  {
   "cell_type": "code",
   "execution_count": null,
   "metadata": {},
   "outputs": [],
   "source": [
    "from tensorflow.keras.callbacks import EarlyStopping\n",
    "\n",
    "# Early stopping para evitar sobreajuste\n",
    "early_stopping = EarlyStopping(monitor='val_loss', patience=5, restore_best_weights=True)\n",
    "\n",
    "# Entrenar el modelo\n",
    "history = model.fit(\n",
    "    train_datagen.flow(X_train, y_train, batch_size=32),\n",
    "    validation_data=(X_val, y_val),\n",
    "    epochs=20,\n",
    "    callbacks=[early_stopping]\n",
    ")\n",
    "\n",
    "# Guardar el modelo entrenado\n",
    "model.save('traffic_sign_classifier.h5')\n",
    "\n",
    "# Evaluar el modelo en el conjunto de validación\n",
    "val_loss, val_accuracy = model.evaluate(X_val, y_val)\n",
    "print(f\"Validation Loss: {val_loss}\")\n",
    "print(f\"Validation Accuracy: {val_accuracy}\")\n"
   ]
  },
  {
   "cell_type": "markdown",
   "metadata": {},
   "source": [
    "from tensorflow.keras.callbacks import EarlyStopping\n",
    "\n",
    "# Early stopping para evitar sobreajuste\n",
    "early_stopping = EarlyStopping(monitor='val_loss', patience=5, restore_best_weights=True)\n",
    "\n",
    "# Entrenar el modelo\n",
    "history = model.fit(\n",
    "    train_datagen.flow(X_train, y_train, batch_size=32),\n",
    "    validation_data=(X_val, y_val),\n",
    "    epochs=20,\n",
    "    callbacks=[early_stopping]\n",
    ")\n",
    "\n",
    "# Guardar el modelo entrenado\n",
    "model.save('traffic_sign_classifier.h5')\n",
    "\n",
    "# Evaluar el modelo en el conjunto de validación\n",
    "val_loss, val_accuracy = model.evaluate(X_val, y_val)\n",
    "print(f\"Validation Loss: {val_loss}\")\n",
    "print(f\"Validation Accuracy: {val_accuracy}\")\n"
   ]
  },
  {
   "cell_type": "code",
   "execution_count": null,
   "metadata": {},
   "outputs": [],
   "source": [
    "import os\n",
    "import cv2\n",
    "import numpy as np\n",
    "from tensorflow.keras.models import load_model\n",
    "from sklearn.metrics import classification_report, accuracy_score\n",
    "\n",
    "# Ruta a las imágenes de prueba\n",
    "test_images_path = 'C:/DB_Covid19Arg/csv_archivos_limpios/Amazon_test/GTSRB/Final_Test/Images/'\n",
    "\n",
    "# Función para cargar las imágenes de prueba\n",
    "def load_test_data(images_path):\n",
    "    images = []\n",
    "    filenames = []\n",
    "    for root, dirs, files in os.walk(images_path):\n",
    "        for file in files:\n",
    "            if file.endswith(\".ppm\"):  # Formato de imagen .ppm\n",
    "                image = cv2.imread(os.path.join(root, file))\n",
    "                image = cv2.resize(image, (32, 32))  # Redimensionar a 32x32 píxeles\n",
    "                images.append(image)\n",
    "                filenames.append(file)\n",
    "    return np.array(images), filenames\n",
    "\n",
    "# Cargar imágenes de prueba\n",
    "X_test, filenames = load_test_data(test_images_path)\n",
    "\n",
    "# Normalizar las imágenes de prueba\n",
    "X_test = X_test / 255.0\n",
    "\n",
    "# Cargar el modelo entrenado\n",
    "model = load_model('traffic_sign_classifier.h5')\n",
    "\n",
    "# Realizar las predicciones en el conjunto de test\n",
    "predictions = model.predict(X_test)\n",
    "predicted_classes = np.argmax(predictions, axis=1)\n",
    "\n",
    "# Imprimir predicciones\n",
    "for filename, prediction in zip(filenames, predicted_classes):\n",
    "    print(f\"Imagen: {filename} - Clase predicha: {prediction}\")\n"
   ]
  }
 ],
 "metadata": {
  "kernelspec": {
   "display_name": "venv",
   "language": "python",
   "name": "python3"
  },
  "language_info": {
   "name": "python",
   "version": "3.12.6"
  }
 },
 "nbformat": 4,
 "nbformat_minor": 2
}
