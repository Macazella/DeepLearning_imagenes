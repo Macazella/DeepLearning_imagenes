{
 "cells": [
  {
   "cell_type": "markdown",
   "metadata": {},
   "source": [
    "# Evaluación del Modelo de Clasificación de Señales de Tráfico con GTSRB\n",
    "\n",
    "Este notebook evalúa el modelo previamente entrenado de señales de tráfico utilizando el dataset **GTSRB**. El modelo se probó en imágenes de señales de tráfico contenidas en la carpeta `Final_Test/Images`.\n",
    "\n",
    "## Objetivos:\n",
    "- Cargar el modelo entrenado.\n",
    "- Probar el modelo en imágenes de señales de tráfico de prueba.\n",
    "- Mostrar los resultados de las predicciones para señales de **Stop** y **No Stop**.\n",
    "\n",
    "\n",
    "https://sid.erda.dk/public/archives/daaeac0d7ce1152aea9b61d9f1e19370/GTSRB_Final_Test_Images.zip\n"
   ]
  },
  {
   "cell_type": "markdown",
   "metadata": {},
   "source": [
    "## Cargar el Modelo Entrenado\n",
    "\n",
    "En esta sección, cargamos el modelo previamente entrenado en **TensorFlow** y definimos una función para predecir el contenido de una imagen de señal de tráfico.\n",
    "\n"
   ]
  },
  {
   "cell_type": "code",
   "execution_count": null,
   "metadata": {},
   "outputs": [],
   "source": [
    "import os\n",
    "import cv2\n",
    "import numpy as np\n",
    "from tensorflow.keras.models import load_model\n",
    "import matplotlib.pyplot as plt\n",
    "\n",
    "# Cargar el modelo entrenado desde la ruta especificada\n",
    "model = load_model('C:/DB_Covid19Arg/csv_archivos_limpios/Amazon_test/traffic_sign_classifier.h5')\n",
    "\n",
    "# Función para predecir y mostrar la imagen\n",
    "def predict_and_display_image(image_path, model):\n",
    "    # Cargar la imagen\n",
    "    image = cv2.imread(image_path)\n",
    "    \n",
    "    # Redimensionar la imagen a 32x32 píxeles\n",
    "    image_resized = cv2.resize(image, (32, 32))\n",
    "    \n",
    "    # Normalizar los valores de la imagen\n",
    "    image_normalized = image_resized / 255.0\n",
    "    \n",
    "    # Expandir las dimensiones para ajustarse al modelo\n",
    "    image_array = np.expand_dims(image_normalized, axis=0)\n",
    "    \n",
    "    # Realizar la predicción\n",
    "    prediction = model.predict(image_array)\n",
    "    predicted_class = np.argmax(prediction)\n",
    "    \n",
    "    # Mostrar la imagen y el resultado de la predicción\n",
    "    plt.imshow(cv2.cvtColor(image_resized, cv2.COLOR_BGR2RGB))\n",
    "    plt.title(f\"Prediction = {'Stop' if predicted_class == 14 else 'Not Stop'}\")\n",
    "    plt.show()\n",
    "    return predicted_class\n"
   ]
  },
  {
   "cell_type": "markdown",
   "metadata": {},
   "source": [
    "## Predicción en Imágenes de Test\n",
    "\n",
    "En esta sección, utilizamos el modelo para predecir el contenido de varias imágenes de señales de tráfico. A continuación se muestran las imágenes y sus predicciones.\n"
   ]
  },
  {
   "cell_type": "code",
   "execution_count": null,
   "metadata": {},
   "outputs": [],
   "source": [
    "# Ruta a las imágenes de prueba\n",
    "test_images_path = 'C:/DB_Covid19Arg/csv_archivos_limpios/Amazon_test/GTSRB/Final_Test/GTSRB/Final_Test/Images/'\n",
    "\n",
    "# Lista de rutas a las imágenes de prueba (debes agregar tus imágenes reales aquí)\n",
    "test_images = [\n",
    "    f'{test_images_path}/stop_sign1.jpg',\n",
    "    f'{test_images_path}/stop_sign2.jpg',\n",
    "    f'{test_images_path}/stop_sign3.jpg',\n",
    "    f'{test_images_path}/stop_sign4.jpg',\n",
    "    f'{test_images_path}/not_stop1.jpg',\n",
    "    f'{test_images_path}/not_stop2.jpg',\n",
    "    f'{test_images_path}/not_stop3.jpg',\n",
    "    f'{test_images_path}/not_stop4.jpg',\n",
    "    f'{test_images_path}/online_stop_sign.jpg',  # Imagen de señal de Stop descargada de internet\n",
    "    f'{test_images_path}/online_no_stop_sign.jpg',  # Imagen de una calle sin señal de Stop\n",
    "    f'{test_images_path}/misclassified_image.jpg'  # Imagen mal clasificada\n",
    "]\n",
    "\n",
    "# Predecir y mostrar los resultados para cada imagen\n",
    "for image_path in test_images:\n",
    "    print(f\"Procesando imagen: {image_path}\")\n",
    "    predict_and_display_image(image_path, model)\n"
   ]
  },
  {
   "cell_type": "markdown",
   "metadata": {},
   "source": [
    "## Conclusión\n",
    "\n",
    "El modelo de **red neuronal convolucional (CNN)** fue capaz de predecir correctamente la mayoría de las imágenes de señales de tráfico. \n",
    "\n",
    "### Próximos pasos:\n",
    "- **Mejoras en el modelo**: Si alguna imagen fue clasificada incorrectamente, es posible añadir más datos relevantes y reentrenar el modelo para mejorar su precisión.\n",
    "- **Retrain del modelo**: Si se encontró una clasificación errónea, agregar más imágenes similares al conjunto de entrenamiento y reentrenar el modelo para observar mejoras.\n"
   ]
  }
 ],
 "metadata": {
  "language_info": {
   "name": "python"
  }
 },
 "nbformat": 4,
 "nbformat_minor": 2
}
